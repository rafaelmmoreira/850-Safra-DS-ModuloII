{
 "cells": [
  {
   "cell_type": "markdown",
   "metadata": {},
   "source": [
    "# Compreensão de listas e expressões geradoras\n",
    "\n",
    "Muito do que estudamos até o momento em Python pode ser reproduzido de maneira muito parecida em outras linguagens. Comandos como if, else, while e for, bem como conceitos como criar funções, passar parâmetros e retornar valores são comuns a uma infinidade de linguagens de programação.\n",
    "\n",
    "Porém, um dos objetivos da linguagem Python é realizar o máximo possível de trabalho com a menor quantidade possível de código, resultando em um código mais limpo e com menos efeitos colaterais. \n",
    "\n",
    "Com isso, o Python traz maneiras diferentes e mais enxutas de resolver problemas que já lidávamos bem utilizando outras técnicas. Parte dessas técnicas foi inspirada em conceitos de **programação funcional**, que será explicada um pouco melhor em uma aula futura.\n",
    "\n",
    "As **compreensões de listas** e **expressões geradoras** são algumas dessas ferramentas."
   ]
  },
  {
   "cell_type": "markdown",
   "metadata": {},
   "source": [
    "## Compreensão de listas\n",
    "\n",
    "Vamos considerar um probleminha simples: montar uma lista com os quadrados dos números de 1 até 10. Você provavelmente resolveria esse problema da seguinte maneira:"
   ]
  },
  {
   "cell_type": "code",
   "execution_count": null,
   "metadata": {},
   "outputs": [],
   "source": [
    "quadrados = []\n",
    "\n",
    "for x in range(1, 11):\n",
    "    quadrados.append(x**2)\n",
    "\n",
    "print(quadrados)\n",
    "print(x)"
   ]
  },
  {
   "cell_type": "markdown",
   "metadata": {},
   "source": [
    "Note que utilizamos 3 linhas de código para criar uma lista: uma para declarar uma lista, uma para percorrer alguns valores e uma para executar o cálculo e adicionar o resultado à lista.\n",
    "\n",
    "Além disso, criamos uma variável extra, ```x```, que segue existindo em nosso programa mesmo após o loop, como você pode observar pelo segundo ```print``` do exemplo.\n",
    "\n",
    "A **compreensão de listas** resolve todos esses problemas: iremos resumir em uma única linha a criação da nova lista já com todos os valores desejados, e sem variáveis *sobrando* após a execução:"
   ]
  },
  {
   "cell_type": "code",
   "execution_count": null,
   "metadata": {},
   "outputs": [],
   "source": [
    "quadrados_compreensao = [num**2 for num in range(1, 11)]\n",
    "\n",
    "print(quadrados_compreensao)"
   ]
  },
  {
   "cell_type": "markdown",
   "metadata": {},
   "source": [
    "Note que a variável ```x``` criada na versão extensa ainda existe. A variável ```num``` utilizada na compreensão, não:"
   ]
  },
  {
   "cell_type": "code",
   "execution_count": null,
   "metadata": {},
   "outputs": [],
   "source": [
    "print('x:', x)\n",
    "print('num:', num)"
   ]
  },
  {
   "cell_type": "markdown",
   "metadata": {},
   "source": [
    "Vale destacar que você não precisa necessariamente utilizar ```range``` em suas compreensões. Você pode utilizar **qualquer** tipo de iterável, como listas, tuplas, strings etc.\n",
    "\n",
    "O exemplo abaixo monta uma lista contendo a metade do valor de cada elemento de uma outra lista:"
   ]
  },
  {
   "cell_type": "code",
   "execution_count": null,
   "metadata": {},
   "outputs": [],
   "source": [
    "numeros = [1, 9, 4, 7, 6, 2]\n",
    "\n",
    "metades = [n/2 for n in numeros]\n",
    "\n",
    "print(metades)"
   ]
  },
  {
   "cell_type": "markdown",
   "metadata": {},
   "source": [
    "### Condicionais em compreensões\n",
    "\n",
    "Podemos utilizar compreensões em nossas condicionais. Imagine que no exemplo anterior não pudéssemos aceitar valores \"quebrados\", e para isso não iremos dividir números ímpares, apenas pares. Podemos colocar um ```if``` na expressão:"
   ]
  },
  {
   "cell_type": "code",
   "execution_count": null,
   "metadata": {},
   "outputs": [],
   "source": [
    "metades_pares = [n/2 for n in numeros if n % 2 == 0 ]\n",
    "print(metades_pares)"
   ]
  },
  {
   "cell_type": "markdown",
   "metadata": {},
   "source": [
    "Podemos também utilizar ```else``` na expressão. Vejamos mais um exemplo e em seguida generalizaremos a sintaxe das compreensões de lista. \n",
    "\n",
    "Considere que vamos, sim, aceitar números quebrados no exemplo das metades. Porém, não queremos utilizar o tipo float desnecessariamente. Portanto, faremos uma divisão **inteira** quando o número for par (para que o resultado seja int) e uma divisão **real** quando o número for ímpar (para que o resultado seja float). A expressão ficaria assim:"
   ]
  },
  {
   "cell_type": "code",
   "execution_count": null,
   "metadata": {},
   "outputs": [],
   "source": [
    "metades_tipo = [n//2 if n % 2 == 0 else n/2 for n in numeros]\n",
    "\n",
    "print(metades_tipo)"
   ]
  },
  {
   "cell_type": "markdown",
   "metadata": {},
   "source": [
    "Note que quando colocamos o ```else```, a ordem da compreensão sofreu uma alteração. Quando era apenas ```if```, ele vinha após o ```for```. Com o ```else```, ambos vem antes.\n",
    "\n",
    "Outro ponto importante é que no caso do ```else``` passamos a ter uma segunda expressão. Quando a condição do ```if``` é verdadeira, a compreensão irá executar a expressão original. Caso contrário, ele irá executar a expressão do ```else```.\n",
    "\n",
    "Resumindo as combinações possíveis:\n",
    "\n",
    "```py\n",
    "lista = [expressao for item in colecao]\n",
    "\n",
    "# equivale a:\n",
    "\n",
    "for item in colecao:\n",
    "    lista.append(expressao)\n",
    "```\n",
    "---\n",
    "\n",
    "```py\n",
    "[expressao for item in colecao if condicao]\n",
    "\n",
    "# equivale a:\n",
    "\n",
    "for item in colecao:\n",
    "    if condicao:\n",
    "        lista.append(expressao)\n",
    "```\n",
    "\n",
    "---\n",
    "\n",
    "```py\n",
    "[expressao if condicao else expressao_alternativa for item in colecao] \n",
    "\n",
    "# equivale a:\n",
    "\n",
    "for item in colecao:\n",
    "    if condicao:\n",
    "        lista.append(expressao)\n",
    "    else:\n",
    "        lista.append(expressao_alternativa)\n",
    "```\n",
    "\n",
    "### Aninhando compreensões\n",
    "\n",
    "É possível aninhar compreensões de lista. Ao colocarmos mais de um ```for``` consecutivo, o primeiro for será considerado o mais externo, e o seguinte, mais interno. O exemplo abaixo mostra todas as combinações possíveis entre alguns nomes e sobrenomes:"
   ]
  },
  {
   "cell_type": "code",
   "execution_count": null,
   "metadata": {},
   "outputs": [],
   "source": [
    "nomes = ['Ana', 'Bruno', 'Carla', 'Daniel', 'Emília']\n",
    "sobrenomes = ['Silva', 'Oliveira']\n",
    "\n",
    "combinacoes = [nome + ' ' + sobrenome for nome in nomes for sobrenome in sobrenomes]\n",
    "print(combinacoes)"
   ]
  },
  {
   "cell_type": "markdown",
   "metadata": {},
   "source": [
    "Inclusive podemos utilizar essa forma para trabalhar com matrizes. O exemplo abaixo lê pelo teclado a quantidade de vitórias, empates e derrotas para cada time em um grupo:"
   ]
  },
  {
   "cell_type": "code",
   "execution_count": null,
   "metadata": {},
   "outputs": [],
   "source": [
    "times = ['Atlético Python', 'JavaScript United', 'C Seniors', 'Javeiros do Norte']\n",
    "entradas = ['V', 'E', 'D']\n",
    "\n",
    "tabela = [[int(input(f'Digite a quantidade de {tipo} do time {time}')) for tipo in entradas] for time in times]\n",
    "\n",
    "print(tabela)"
   ]
  },
  {
   "cell_type": "markdown",
   "metadata": {},
   "source": [
    "### Compreensão de dicionários\n",
    "\n",
    "Da mesma forma que utilizamos compreensão para listas, podemos utilizá-la para dicionários. A diferença é que precisamos, obrigatoriamente, passar um par chave-valor. O exemplo abaixo parte de uma lista de notas e uma lista de alunos e chega em um dicionário associando cada aluno a uma nota.\n",
    "\n"
   ]
  },
  {
   "cell_type": "code",
   "execution_count": null,
   "metadata": {},
   "outputs": [],
   "source": [
    "alunos = ['Ana', 'Bruno', 'Carla', 'Daniel', 'Emília']\n",
    "medias = [9.0, 8.0, 8.0, 6.5, 7.0]\n",
    "\n",
    "cadastro = {alunos[i]:medias[i] for i in range(len(alunos))}\n",
    "\n",
    "print(cadastro)"
   ]
  },
  {
   "cell_type": "markdown",
   "metadata": {},
   "source": [
    "Talvez você não tenha achado esse código tão *pythonico*, e você tem razão. Não gostamos de percorrer listas por índices dessa maneira. Uma estratégia melhor é utilizar o *zip*. Vejamos um exemplo para entender o que o *zip* faz com listas.\n",
    "Execute o código abaixo:"
   ]
  },
  {
   "cell_type": "code",
   "execution_count": null,
   "metadata": {},
   "outputs": [],
   "source": [
    "alunos = ['Ana', 'Bruno', 'Carla', 'Daniel', 'Emília']\n",
    "medias = [9.0, 8.0, 8.0, 6.5, 7.0]\n",
    "\n",
    "zip_alunos = zip(alunos, medias)\n",
    "\n",
    "for item in zip_alunos:\n",
    "    print(item)"
   ]
  },
  {
   "cell_type": "markdown",
   "metadata": {},
   "source": [
    "O *zip* montou uma coleção onde cada elemento é uma tupla contendo um elemento da primeira lista associado ao elemento da mesma posição na segunda lista. Utilizando o nosso bom e velho *tuple unpacking*, podemos tirar proveito disso para percorrer duas listas em paralelo:"
   ]
  },
  {
   "cell_type": "code",
   "execution_count": null,
   "metadata": {},
   "outputs": [],
   "source": [
    "for a, m in zip(alunos, medias):\n",
    "    print(f'Aluno: {a}\\t | Média:{m}')"
   ]
  },
  {
   "cell_type": "markdown",
   "metadata": {},
   "source": [
    "Vamos refazer nossa compreensão de dicionários para ser mais *Pythonica*:"
   ]
  },
  {
   "cell_type": "code",
   "execution_count": null,
   "metadata": {},
   "outputs": [],
   "source": [
    "alunos = ['Ana', 'Bruno', 'Carla', 'Daniel', 'Emília']\n",
    "medias = [9.0, 8.0, 8.0, 6.5, 7.0]\n",
    "\n",
    "cadastro = {aluno:media for aluno,media in zip(alunos, medias)}\n",
    "\n",
    "print(cadastro)"
   ]
  },
  {
   "cell_type": "markdown",
   "metadata": {},
   "source": [
    "## Expressões geradoras\n",
    "\n",
    "Se você executar o código abaixo, não notará nenhum erro de execução. Ambas as linhas executam com sucesso:"
   ]
  },
  {
   "cell_type": "code",
   "execution_count": null,
   "metadata": {},
   "outputs": [],
   "source": [
    "colchetes = [x for x in range(10)]\n",
    "\n",
    "parenteses = (x for x in range(10))"
   ]
  },
  {
   "cell_type": "markdown",
   "metadata": {},
   "source": [
    "Listas são representadas por colchetes, e fazemos compreensão de listas utilizando colchetes. Dicionários utilizam chaves (**{** e **}**), e utilizamos chaves para fazer compreensão de dicionários. A expressão entre parênteses só pode ser uma tupla, certo?"
   ]
  },
  {
   "cell_type": "code",
   "execution_count": null,
   "metadata": {},
   "outputs": [],
   "source": [
    "print(colchetes)\n",
    "print(type(colchetes))\n",
    "\n",
    "print(parenteses)\n",
    "print(type(parenteses))"
   ]
  },
  {
   "cell_type": "markdown",
   "metadata": {},
   "source": [
    "Não existe compreensão de tuplas em Python. Quando colocamos uma expressão semelhante a uma compreensão de lista entre colchetes, estamos criando uma expressão geradora. Note que podemos iterar uma expressão geradora:"
   ]
  },
  {
   "cell_type": "code",
   "execution_count": null,
   "metadata": {},
   "outputs": [],
   "source": [
    "gerador_quadrados = (x**2 for x in range(10))\n",
    "\n",
    "for quadrado in gerador_quadrados:\n",
    "    print(quadrado)"
   ]
  },
  {
   "cell_type": "markdown",
   "metadata": {},
   "source": [
    "Também podemos convertê-lo para outras estruturas, como uma lista ou uma tupla:"
   ]
  },
  {
   "cell_type": "code",
   "execution_count": null,
   "metadata": {},
   "outputs": [],
   "source": [
    "gerador_impares = (x for x in range(20) if x % 2 == 1)\n",
    "\n",
    "lista_impares = list(gerador_impares)\n",
    "\n",
    "print(lista_impares)"
   ]
  },
  {
   "cell_type": "markdown",
   "metadata": {},
   "source": [
    "Porém, não podemos utilizar nosso gerador uma segunda vez. Vamos tentar:"
   ]
  },
  {
   "cell_type": "code",
   "execution_count": null,
   "metadata": {},
   "outputs": [],
   "source": [
    "gerador_quadrados = (x**2 for x in range(10))\n",
    "\n",
    "for quadrado in gerador_quadrados:\n",
    "    print(quadrado)\n",
    "\n",
    "lista_quadrados = list(gerador_quadrados)\n",
    "print(lista_quadrados)"
   ]
  },
  {
   "cell_type": "markdown",
   "metadata": {},
   "source": [
    "Para entender porque a lista saiu vazia, precisamos entender a diferença entre um **iterável** e um **iterador** em Python.\n",
    "\n",
    "### Iteráveis e iteradores\n",
    "\n",
    "Um **iterável** é um objeto em Python que podemos percorrer utilizando um loop. Geralmente pensamos em iteráveis como algum tipo de coleção. Listas, tuplas, dicionários e strings são todos iteráveis.\n",
    "\n",
    "Porém, o que o loop realmente utiliza não é o iterável, mas o **iterador**. Quando tentamos percorrer um iterável, é criado um iterador a partir dele utilizando a função ```iter```. Em cada passo da iteração (do loop), a função ```next``` é chamada, e ela irá retornar o próximo elemento. Quando os elementos são esgotados, ela irá lançar a exceção ```StopIteration```.\n",
    "\n",
    "Veja o exemplo abaixo:"
   ]
  },
  {
   "cell_type": "code",
   "execution_count": null,
   "metadata": {},
   "outputs": [],
   "source": [
    "lista = [1, 3, 5]\n",
    "\n",
    "iterador = iter(lista)\n",
    "\n",
    "print(iterador)\n",
    "\n",
    "print(next(iterador))\n",
    "print(next(iterador))\n",
    "print(next(iterador))\n",
    "print(next(iterador))"
   ]
  },
  {
   "cell_type": "markdown",
   "metadata": {},
   "source": [
    "Uma diferença fundamental entre um **iterável** e um **iterador** é que o iterador já possui todos os exemplos salvos em algum lugar. O iterável não. Ele irá gerar/buscar cada elemento no momento que a função ```next``` é chamada, e ele não irá salvar os elementos anteriores.\n",
    "\n",
    "Uma expressão geradora não é um **iterável**, ela é um **iterador**. Uma lista é um **iterável**.\n",
    "\n",
    "Ou seja, quando nós fazemos uma compreensão de lista, a expressão é avaliada na mesma hora e todos os elementos são gerados e salvos na memória.\n",
    "\n",
    "Quando utilizamos uma expressão geradora, cada elemento é gerado apenas quando solicitado, e os elementos não ficam salvos.\n",
    "\n"
   ]
  },
  {
   "cell_type": "code",
   "execution_count": null,
   "metadata": {},
   "outputs": [],
   "source": [
    "gerador = (x for x in range(5))\n",
    "\n",
    "print(next(gerador))\n",
    "print(next(gerador))\n",
    "print(next(gerador))\n",
    "print(next(gerador))\n",
    "print(next(gerador))\n",
    "#print(next(gerador)) # essa linha provoca uma exceção"
   ]
  },
  {
   "cell_type": "markdown",
   "metadata": {},
   "source": [
    "Podemos utilizar expressões geradoras quando:\n",
    "\n",
    "* Iremos trabalhar com uma base de dados tão grande que a geração da lista pode ser excessivamente lenta ou consumir memória demais.\n",
    "* Quando desejamos obter dados infinitos (uma sequência numérica sem fim, ou então um *stream* de dados que pode estar chegando por um sensor ou pela internet, por exemplo).\n",
    "* Quando sabemos com certeza absoluta que só precisaremos iterar uma única vez por cada elemento e não precisaremos deles posteriormente.\n",
    "\n",
    "Caso você precise dos dados mais de uma vez, a expressão geradora deixa de ser atrativa e compensa mais utilizar compreensão de listas.\n"
   ]
  },
  {
   "cell_type": "markdown",
   "metadata": {},
   "source": [
    "## Funções geradoras\n",
    "\n",
    "Expressões geradoras são uma forma compacta para criar iteradores. Uma das formas mais completas envolve utilizar programação orientada a objeto para definir uma classe com alguns métodos específicos para que os objetos se comportem como geradores. A outra envolve utilizar uma função geradora.\n",
    "\n",
    "Funções geradoras lembram bastante funções convencionais, mas ao invés de ```return``` elas utilizarão a palavra ```yield```. \n",
    "\n",
    "A função irá retornar um iterador, e iremos sempre chamar ```next``` passando esse gerador.\n",
    "\n",
    "Cada vez que o ```next``` for chamado, o iterador irá executar a função até encontrar o ```yield```. O estado da função é salvo e o valor do ```yield``` é retornado. Quando chamarmos ```next``` novamente, a função irá executar do ponto que parou até encontrar novamente o ```yield```. Quando não houver mais ```yield```, a exceção ```StopIteraction``` será lançada.\n",
    "\n",
    "Vejamos um exemplo:"
   ]
  },
  {
   "cell_type": "code",
   "execution_count": null,
   "metadata": {},
   "outputs": [],
   "source": [
    "def funcao_geradora():\n",
    "    yield 1\n",
    "    yield 3\n",
    "    yield 5\n",
    "\n",
    "meu_gerador = funcao_geradora()\n",
    "\n",
    "print(next(meu_gerador))\n",
    "print(next(meu_gerador))\n",
    "print(next(meu_gerador))\n",
    "print(next(meu_gerador))"
   ]
  },
  {
   "cell_type": "markdown",
   "metadata": {},
   "source": [
    "A nossa função geradora pode, inclusive, ter malhas de repetição:"
   ]
  },
  {
   "cell_type": "code",
   "execution_count": null,
   "metadata": {},
   "outputs": [],
   "source": [
    "def gerador_de_sequencia(limite:int):\n",
    "    contador = 0\n",
    "    while contador < limite:\n",
    "        yield contador\n",
    "        contador += 1\n",
    "\n",
    "iterador_sequencia = gerador_de_sequencia(10)\n",
    "\n",
    "while True:\n",
    "    try:\n",
    "        print(next(iterador_sequencia))\n",
    "    except StopIteration:\n",
    "        print('Chegou no fim!')\n",
    "        break"
   ]
  },
  {
   "cell_type": "markdown",
   "metadata": {},
   "source": [
    "> \n",
    "> **Observação:** se você tentou fazer uma compreensão de dicionário e esqueceu de utilizar um par chave-valor, talvez você tenha se surpreendido ao notar que não deu erro. Isso ocorre porque existe *outra* estrutura de dados em Python que não estudamos no curso que utiliza os símbolos **{** e **}**: o ```set``` (conjunto). Ele é uma coleção **mutável** de elementos (como a lista), mas ele não possui índice (porque a ordem não importa) e ele não aceita elementos repetidos. Caso tenha curiosidade, segue material de referência com o básico de como trabalhar com conjuntos: https://www.programiz.com/python-programming/set\n",
    "> "
   ]
  },
  {
   "cell_type": "markdown",
   "metadata": {},
   "source": [
    "Caso tenha interesse em se aprofundar nos assuntos de hoje e ver alguns experimentos envolvendo tamanho e performance de cada um, segue algumas boas referências:\n",
    "\n",
    ">https://djangostars.com/blog/list-comprehensions-and-generator-expressions/\n",
    ">\n",
    ">https://towardsdatascience.com/comprehensions-and-generator-expression-in-python-2ae01c48fc50\n",
    ">\n",
    ">https://docs.python.org/3/howto/functional.html#generator-expressions-and-list-comprehensions"
   ]
  },
  {
   "cell_type": "markdown",
   "metadata": {},
   "source": [
    "# Exercícios\n",
    "\n",
    "> Nos exercícios mais simples, que consistem apenas em gerar uma lista ou dicionário, utilize necessariamente compreensão de lista/dicionário. Em exercícios com instruções mais específicas, siga as instruções. Em exercícios de geradores, fique à vontade para usar expressões geradoras ou funções geradoras, mas tenha em mente que nem todas as tarefas podem ser reduzidas a uma expressão geradora. \n",
    "\n",
    "---\n",
    "\n",
    "Um professor precisou anular uma questão de uma prova. Faça uma função que recebe a lista de notas da turma, o valor da questão e soma esse valor em todas as notas."
   ]
  },
  {
   "cell_type": "code",
   "execution_count": 3,
   "metadata": {},
   "outputs": [
    {
     "name": "stdout",
     "output_type": "stream",
     "text": [
      "[8.5, 5.5, 7.5, 9.5, 3.5, 6.5]\n"
     ]
    }
   ],
   "source": [
    "notas = [7, 4, 6, 8, 2, 5]\n",
    "nota_anulada = 1.5\n",
    "\n",
    "notas_normalizadas = [nota + nota_anulada for nota in notas]\n",
    "\n",
    "print(notas_normalizadas)"
   ]
  },
  {
   "cell_type": "markdown",
   "metadata": {},
   "source": [
    "Faça uma função que recebe uma lista de números e retorna uma lista contendo os cubos dos números pares."
   ]
  },
  {
   "cell_type": "code",
   "execution_count": 6,
   "metadata": {},
   "outputs": [
    {
     "name": "stdout",
     "output_type": "stream",
     "text": [
      "[7, 64, 216, 512, 8, 5]\n"
     ]
    }
   ],
   "source": [
    "numeros = [7, 4, 6, 8, 2, 5]\n",
    "\n",
    "numeros_cubos_pares = [(numero ** 3) if numero % 2 == 0 else numero for numero in numeros]\n",
    "\n",
    "print(numeros_cubos_pares)"
   ]
  },
  {
   "cell_type": "code",
   "execution_count": 8,
   "metadata": {},
   "outputs": [
    {
     "name": "stdout",
     "output_type": "stream",
     "text": [
      "[64, 216, 512, 8]\n"
     ]
    }
   ],
   "source": [
    "numeros = [7, 4, 6, 8, 2, 5]\n",
    "\n",
    "numeros_cubos_pares = [numero ** 3 for numero in numeros if numero % 2 == 0]\n",
    "\n",
    "print(numeros_cubos_pares)"
   ]
  },
  {
   "cell_type": "markdown",
   "metadata": {},
   "source": [
    "Faça uma função que recebe uma lista de números e retorna uma lista contendo os cubos dos números positivos e o quadrado dos números negativos."
   ]
  },
  {
   "cell_type": "code",
   "execution_count": 9,
   "metadata": {},
   "outputs": [
    {
     "name": "stdout",
     "output_type": "stream",
     "text": [
      "[49, 16, 216, 512, 4, 125]\n"
     ]
    }
   ],
   "source": [
    "numeros = [-7, -4, 6, 8, -2, 5]\n",
    "\n",
    "numeros_alterados = []\n",
    "for numero in numeros:\n",
    "    if numero >= 0:\n",
    "        numeros_alterados.append(numero ** 3)\n",
    "    else:\n",
    "        numeros_alterados.append(numero**2)\n",
    "\n",
    "print(numeros_alterados)"
   ]
  },
  {
   "cell_type": "code",
   "execution_count": 11,
   "metadata": {},
   "outputs": [
    {
     "name": "stdout",
     "output_type": "stream",
     "text": [
      "[49, 16, 216, 512, 4, 125]\n"
     ]
    }
   ],
   "source": [
    "numeros = [-7, -4, 6, 8, -2, 5]\n",
    "\n",
    "numeros_alterados = [(numero ** 3) if numero >= 0 else (numero ** 2) for numero in numeros]\n",
    "\n",
    "print(numeros_alterados)"
   ]
  },
  {
   "cell_type": "markdown",
   "metadata": {},
   "source": [
    "Faça uma função que retorna uma lista contendo apenas float a partir de uma lista contendo variáveis inteiras, float e strings. Exemplo:\n",
    "\n",
    "Entrada: \n",
    "\n",
    "Saída: [1.0, 2.0, 3.0, 4.0, 5.5, 6.0]"
   ]
  },
  {
   "cell_type": "code",
   "execution_count": 12,
   "metadata": {},
   "outputs": [
    {
     "name": "stdout",
     "output_type": "stream",
     "text": [
      "[1.0, 2.0, 3.0, 4.0, 5.5, 6.0]\n"
     ]
    }
   ],
   "source": [
    "lista_suja = [1, 2.0, '3', 4.0, '5.5', 6]\n",
    "\n",
    "lista_limpa = []\n",
    "for numero in lista_suja:\n",
    "    lista_limpa.append(float(numero))\n",
    "\n",
    "print(lista_limpa)"
   ]
  },
  {
   "cell_type": "markdown",
   "metadata": {},
   "source": [
    "Faça uma função que retorna uma lista contendo apenas números a partir de uma lista contendo variáveis inteiras, float e strings. Valores já numéricos **não** devem ter seu tipo alterado, apenas strings. Exemplo:\n",
    "\n",
    "Entrada: [1, 2.0, '3', 4.0, '5.5', 6]\n",
    "\n",
    "Saída: [1, 2.0, 3.0, 4.0, 5.5, 6]"
   ]
  },
  {
   "cell_type": "code",
   "execution_count": 14,
   "metadata": {},
   "outputs": [
    {
     "name": "stdout",
     "output_type": "stream",
     "text": [
      "[1, 2.0, 3.0, 4.0, 5.5, 6]\n"
     ]
    }
   ],
   "source": [
    "lista_suja = [1, 2.0, '3', 4.0, '5.5', 6]\n",
    "\n",
    "lista_limpa = [numero if type(numero) == int else float(numero) for numero in lista_suja]\n",
    "\n",
    "print(lista_limpa)"
   ]
  },
  {
   "cell_type": "markdown",
   "metadata": {},
   "source": [
    "Faça uma função que recebe uma lista de nomes, uma lista de médias e a nota mínima para aprovação. Ela deverá retornar uma lista com os nomes dos alunos reprovados."
   ]
  },
  {
   "cell_type": "code",
   "execution_count": 38,
   "metadata": {},
   "outputs": [
    {
     "name": "stdout",
     "output_type": "stream",
     "text": [
      "['Daniel', 'Emília']\n"
     ]
    }
   ],
   "source": [
    "alunos = ['Ana', 'Bruno', 'Carla', 'Daniel', 'Emília']\n",
    "medias = [9.0, 8.0, 8.0, 6.5, 7.0]\n",
    "nota_minima = 7.5\n",
    "\n",
    "reprovados = [aluno for aluno, media in zip(alunos, medias) if media < nota_minima]\n",
    "\n",
    "print(reprovados)"
   ]
  },
  {
   "cell_type": "markdown",
   "metadata": {},
   "source": [
    "Faça uma função que recebe uma lista de nomes, uma lista de médias e a nota mínima para aprovação. Ela deverá retornar um dicionário contendo os nomes dos alunos e \"APR\" ou \"REP\" indicando a situação de cada um deles."
   ]
  },
  {
   "cell_type": "code",
   "execution_count": 41,
   "metadata": {},
   "outputs": [
    {
     "name": "stdout",
     "output_type": "stream",
     "text": [
      "{'Ana': 'APR', 'Bruno': 'APR', 'Carla': 'APR', 'Daniel': 'REP', 'Emília': 'REP'}\n"
     ]
    }
   ],
   "source": [
    "alunos = ['Ana', 'Bruno', 'Carla', 'Daniel', 'Emília']\n",
    "medias = [9.0, 8.0, 8.0, 6.5, 7.0]\n",
    "nota_minima = 7.5\n",
    "\n",
    "resultados = {aluno: (\"APR\" if media >= nota_minima else \"REP\") for aluno, media in zip(alunos, medias)}\n",
    "\n",
    "print(resultados)"
   ]
  },
  {
   "cell_type": "markdown",
   "metadata": {},
   "source": [
    "Crie o seu próprio gerador que funcione como o **range**. \n",
    "\n",
    "* Se ele receber 1 parâmetro, considere como valor final (não incluso na sequência). Valor inicial será 0 e passo será 1.\n",
    "* Se ele receber 2 parâmetros, interprete como valor inicial (incluso) e valor final (não incluso), respectivamente. O passo será 1.\n",
    "* Se ele receber 3 parâmetros, interprete como valor inicial (incluso), valor final (não incluso) e passo.\n",
    "* Caso não receba parâmetros, receba mais do que 3 parâmetros ou receba algum parâmetro que não seja **int**, lance uma exceção."
   ]
  },
  {
   "cell_type": "code",
   "execution_count": 26,
   "metadata": {},
   "outputs": [
    {
     "name": "stdout",
     "output_type": "stream",
     "text": [
      "Um ou mais parâmetros recebeu algo diferente de inteiro\n",
      "Chegamos ao fim!\n"
     ]
    }
   ],
   "source": [
    "def range_manual(parametro1, final = None, passo = 1):\n",
    "    if final == None:\n",
    "        final = parametro1\n",
    "        inicial = 0\n",
    "    else:\n",
    "        inicial = parametro1\n",
    "\n",
    "    if type(parametro1) != int or type(final) != int or type(passo) != int:\n",
    "        print(\"Um ou mais parâmetros recebeu algo diferente de inteiro\")\n",
    "        raise Exception(\"Tipo(s) de dado(s) invalido(s)\")\n",
    "\n",
    "    if passo == 0:\n",
    "        print(\"O passo não pode ser 0\")\n",
    "        raise Exception(\"O passo não pode ser 0\")\n",
    "\n",
    "        \n",
    "    if passo > 0:\n",
    "        while inicial < final:\n",
    "            yield inicial\n",
    "            inicial += passo\n",
    "    else:\n",
    "        while inicial > final:\n",
    "            yield inicial\n",
    "            inicial += passo\n",
    "\n",
    "\n",
    "gerador_range = range_manual(1, 3, 0)\n",
    "while True:\n",
    "    try:\n",
    "        print(next(gerador_range))\n",
    "    except:\n",
    "        print(\"Chegamos ao fim!\")\n",
    "        break"
   ]
  },
  {
   "cell_type": "markdown",
   "metadata": {},
   "source": [
    "Crie um gerador infinito para representar uma **progressão aritmética**. Dada uma **razão** e um **termo inicial**, ele deverá calcular o restante dos termos."
   ]
  },
  {
   "cell_type": "code",
   "execution_count": 29,
   "metadata": {},
   "outputs": [
    {
     "name": "stdout",
     "output_type": "stream",
     "text": [
      "0\n",
      "5\n",
      "10\n",
      "15\n",
      "20\n",
      "25\n",
      "30\n",
      "35\n",
      "40\n",
      "45\n",
      "50\n",
      "55\n",
      "60\n",
      "65\n",
      "70\n",
      "75\n"
     ]
    }
   ],
   "source": [
    "def gerador_pa(termo_inicial, razao):\n",
    "    while True:\n",
    "        yield termo_inicial\n",
    "        termo_inicial += razao\n",
    "\n",
    "pa5 = gerador_pa(0, 5)\n",
    "print(next(pa5))\n",
    "print(next(pa5))\n",
    "print(next(pa5))\n",
    "print(next(pa5))\n",
    "print(next(pa5))\n",
    "print(next(pa5))\n",
    "print(next(pa5))\n",
    "print(next(pa5))\n",
    "print(next(pa5))\n",
    "print(next(pa5))\n",
    "print(next(pa5))\n",
    "print(next(pa5))\n",
    "print(next(pa5))\n",
    "print(next(pa5))\n",
    "print(next(pa5))\n",
    "print(next(pa5))"
   ]
  },
  {
   "cell_type": "markdown",
   "metadata": {},
   "source": [
    "Faça um gerador infinito para representar uma **progressão geométrica**. Dada uma **razão** e um **termo inicial** ele deverá calcular o restante dos termos."
   ]
  },
  {
   "cell_type": "code",
   "execution_count": 31,
   "metadata": {},
   "outputs": [
    {
     "name": "stdout",
     "output_type": "stream",
     "text": [
      "1\n",
      "2\n",
      "4\n",
      "8\n",
      "16\n",
      "32\n",
      "64\n",
      "128\n",
      "256\n",
      "512\n",
      "1024\n",
      "2048\n",
      "4096\n",
      "8192\n",
      "16384\n",
      "32768\n"
     ]
    }
   ],
   "source": [
    "def gerador_pg(termo_inicial, razao):\n",
    "    while True:\n",
    "        yield termo_inicial\n",
    "        termo_inicial *= razao\n",
    "\n",
    "pg2 = gerador_pg(1, 2)\n",
    "print(next(pg2))\n",
    "print(next(pg2))\n",
    "print(next(pg2))\n",
    "print(next(pg2))\n",
    "print(next(pg2))\n",
    "print(next(pg2))\n",
    "print(next(pg2))\n",
    "print(next(pg2))\n",
    "print(next(pg2))\n",
    "print(next(pg2))\n",
    "print(next(pg2))\n",
    "print(next(pg2))\n",
    "print(next(pg2))\n",
    "print(next(pg2))\n",
    "print(next(pg2))\n",
    "print(next(pg2))"
   ]
  },
  {
   "cell_type": "markdown",
   "metadata": {},
   "source": [
    "Crie um gerador capaz de gerar infinitos números de Fibonacci.\n",
    "\n",
    "Lembre-se de como os números de Fibonacci são gerados:\n",
    "> f(0) = 0\n",
    "> f(1) = 1\n",
    "> f(n) = f(n-1) + f(n-2)\n",
    "\n",
    "Os primeiros números de Fibonacci são: 0, 1, 1, 2, 3, 5, 8, 13, 21, 34, 55, 89, 144..."
   ]
  },
  {
   "cell_type": "code",
   "execution_count": 32,
   "metadata": {},
   "outputs": [
    {
     "name": "stdout",
     "output_type": "stream",
     "text": [
      "0\n",
      "1\n",
      "1\n",
      "2\n",
      "3\n",
      "5\n",
      "8\n",
      "13\n"
     ]
    }
   ],
   "source": [
    "def gerador_fibo():\n",
    "    penultimo = 0\n",
    "    ultimo = 1\n",
    "    yield penultimo\n",
    "    while True:\n",
    "        yield ultimo\n",
    "        penultimo, ultimo = ultimo, penultimo + ultimo\n",
    "\n",
    "teste_fibo = gerador_fibo()\n",
    "print(next(teste_fibo))\n",
    "print(next(teste_fibo))\n",
    "print(next(teste_fibo))\n",
    "print(next(teste_fibo))\n",
    "print(next(teste_fibo))\n",
    "print(next(teste_fibo))\n",
    "print(next(teste_fibo))\n",
    "print(next(teste_fibo))"
   ]
  },
  {
   "cell_type": "markdown",
   "metadata": {},
   "source": [
    "Crie um gerador capaz de gerar infinitos números primos.\n",
    "\n",
    "Um número primo é divisível apenas por 1 e por ele mesmo.\n",
    "\n",
    "Exemplos: 2, 3, 5, 7, 11, 13, 17, 19, 23, 29..."
   ]
  },
  {
   "cell_type": "code",
   "execution_count": 36,
   "metadata": {},
   "outputs": [
    {
     "name": "stdout",
     "output_type": "stream",
     "text": [
      "1\n",
      "2\n",
      "3\n",
      "5\n",
      "7\n",
      "11\n",
      "13\n",
      "17\n",
      "19\n",
      "23\n",
      "29\n",
      "31\n",
      "37\n",
      "41\n",
      "43\n",
      "47\n",
      "53\n",
      "59\n"
     ]
    }
   ],
   "source": [
    "def eh_primo(n):\n",
    "    divisor = 2\n",
    "    while divisor <= n/2:\n",
    "        if n % divisor == 0:\n",
    "            return False\n",
    "        divisor += 1\n",
    "    else:\n",
    "        return True\n",
    "\n",
    "def gerador_primo():\n",
    "    numero = 1\n",
    "    while True:\n",
    "        if eh_primo(numero):\n",
    "            yield numero\n",
    "        numero += 1\n",
    "\n",
    "primos = gerador_primo()\n",
    "print(next(primos))\n",
    "print(next(primos))\n",
    "print(next(primos))\n",
    "print(next(primos))\n",
    "print(next(primos))\n",
    "print(next(primos))\n",
    "print(next(primos))\n",
    "print(next(primos))\n",
    "print(next(primos))\n",
    "print(next(primos))\n",
    "print(next(primos))\n",
    "print(next(primos))\n",
    "print(next(primos))\n",
    "print(next(primos))\n",
    "print(next(primos))\n",
    "print(next(primos))\n",
    "print(next(primos))\n",
    "print(next(primos))"
   ]
  },
  {
   "cell_type": "markdown",
   "metadata": {},
   "source": [
    "Você fez o exercício abaixo na lista de arquivos:\n",
    "\n",
    "> Faça um programa que carrega um arquivo CSV de notas (como o gerado pelo exercício anterior) e pede para o usuário digitar a nota mínima para aprovação. Ele deverá gerar um novo arquivo contendo as notas originais e 2 colunas adicionais: a média de cada aluno na primeira (com, no máximo, 2 casas decimais) e \"APR\" ou \"REP\" na segunda, indicando se a média atingiu o valor mínimo ou não.\n",
    "\n",
    "Refaça esse exercício utilizando compreensão de listas para montar a tabela de notas já com todas as notas convertidas para float."
   ]
  },
  {
   "cell_type": "code",
   "execution_count": null,
   "metadata": {},
   "outputs": [],
   "source": []
  },
  {
   "cell_type": "markdown",
   "metadata": {},
   "source": [
    "Enriqueça o exercício anterior lendo uma lista de nomes a partir de um arquivo, com os nomes separados por quebras de linha.\n",
    "\n",
    "Utilize compreensão de dicionários para associar cada aluno a sua lista de notas. \n",
    "\n",
    "Salve o resultado em um arquivo .json."
   ]
  },
  {
   "cell_type": "code",
   "execution_count": null,
   "metadata": {},
   "outputs": [],
   "source": []
  }
 ],
 "metadata": {
  "interpreter": {
   "hash": "f62fd1b5f2f7bb8cee509ef117ad7243bf648f347219a0eab91c7e32772de67b"
  },
  "kernelspec": {
   "display_name": "Python 3.10.5 64-bit (windows store)",
   "language": "python",
   "name": "python3"
  },
  "language_info": {
   "codemirror_mode": {
    "name": "ipython",
    "version": 3
   },
   "file_extension": ".py",
   "mimetype": "text/x-python",
   "name": "python",
   "nbconvert_exporter": "python",
   "pygments_lexer": "ipython3",
   "version": "3.10.5"
  },
  "orig_nbformat": 4,
  "vscode": {
   "interpreter": {
    "hash": "ad2bdc8ecc057115af97d19610ffacc2b4e99fae6737bb82f5d7fb13d2f2c186"
   }
  }
 },
 "nbformat": 4,
 "nbformat_minor": 2
}
