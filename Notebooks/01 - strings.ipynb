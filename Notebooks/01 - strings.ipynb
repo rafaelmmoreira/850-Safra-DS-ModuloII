{
 "cells": [
  {
   "cell_type": "markdown",
   "metadata": {},
   "source": [
    "# Strings\n",
    "\n",
    "No passado foi mencionado que temos quatro tipos de dados: inteiro, real, lógico e texto/literal (_string_). Na verdade, o quarto tipo básico seria um _caractere_. Uma _string_ é uma **coleção** de caracteres - como se fosse uma lista, mas aceitando apenas elementos textuais.\n",
    "Vamos verificar algumas propriedades das _strings_!\n",
    "\n",
    "## Acessando elementos em uma _string_\n",
    "No capítulo sobre Listas, vimos que podemos acessar elementos individuais de uma lista utilizando um índice entre colchetes. Vamos testar a mesma lógica com _strings_?"
   ]
  },
  {
   "cell_type": "code",
   "execution_count": null,
   "metadata": {},
   "outputs": [],
   "source": [
    "frase = \"Let's Code\"\n",
    "print(frase[0])\n",
    "print(frase[1])\n",
    "print(frase[2])\n",
    "print(frase[3])\n",
    "print(frase[4])"
   ]
  },
  {
   "cell_type": "markdown",
   "metadata": {},
   "source": [
    "Note que o programa acima imprime \"Let's\", com um caractere por linha. Ou seja, ele considerou frase[0] como \"L\", frase[1] como \"e\", e assim sucessivamente. Uma _string_ é, de fato, uma coleção de caracteres.\n",
    "\n",
    "Porém, ao contrário de uma lista, dizemos que uma _string_ é **imutável**. Isso significa que não podemos alterar um elemento individual da _string_.\n",
    "O programa abaixo produz um erro:"
   ]
  },
  {
   "cell_type": "code",
   "execution_count": null,
   "metadata": {},
   "outputs": [],
   "source": [
    "frase = \"let's code\"\n",
    "frase[0] = 'L'"
   ]
  },
  {
   "cell_type": "markdown",
   "metadata": {},
   "source": [
    "Para alterar uma _string_, é necessário **redefini-la**, de modo que a _string_ original será descartada e a nova (alterada) será escrita por cima da original. Ou, alternativamente, podemos gerar uma cópia da _string_ com alterações. Veremos mais detalhes adiante."
   ]
  },
  {
   "cell_type": "markdown",
   "metadata": {},
   "source": [
    "## Operações entre _strings_\n",
    "Alguns operadores aritméticos funcionam com _strings_ também. Naturalmente, eles não servem para fazer contas, mas nos permitem fazer de forma intuitiva algumas operações bastante úteis.\n",
    "\n",
    "O operador **+** serve como um operador de **concatenação** de _strings_: unir duas _strings_. Observe o exemplo abaixo: "
   ]
  },
  {
   "cell_type": "code",
   "execution_count": null,
   "metadata": {},
   "outputs": [],
   "source": [
    "string1 = 'Olá'\n",
    "string2 = 'Mundo'\n",
    "resultado = string1 + string2\n",
    "print(resultado) # Na tela: 'OláMundo'"
   ]
  },
  {
   "cell_type": "markdown",
   "metadata": {},
   "source": [
    "Outro operador que funciona é o operador **\\***. Este operador não é usado entre duas _strings_, mas entre uma _string_ e um **int**. Ele repetirá a _string_ o número de vezes dado pelo **int**."
   ]
  },
  {
   "cell_type": "code",
   "execution_count": null,
   "metadata": {},
   "outputs": [],
   "source": [
    "string = 'Olá mundo!'\n",
    "multi = string * 3\n",
    "print(multi) # Na tela: 'Olá mundo!Olá mundo!Olá mundo!'"
   ]
  },
  {
   "cell_type": "markdown",
   "metadata": {},
   "source": [
    "### Copiando uma _string_ através de concatenação\n",
    "Caso você já tenha resolvido problemas de somatório (a essa altura, espera-se que tenha resolvido vários!), você já deve estar acostumado a utilizar um _loop_ onde novos valores são somados em uma mesma variável. Somar os números de uma lista, por exemplo, tem mais ou menos essa carinha:\n",
    "\n",
    "```python\n",
    "soma = 0\n",
    "for numero in lista:\n",
    "\tsoma = soma + numero\n",
    "```\n",
    "\n",
    "A mesma lógica pode ser aplicada a uma _string_:"
   ]
  },
  {
   "cell_type": "code",
   "execution_count": null,
   "metadata": {},
   "outputs": [],
   "source": [
    "string_inicial = 'Olá Mundo'\n",
    "string_final = '' # cria uma string vazia\n",
    "for letra in string_inicial:\n",
    "\tstring_final = string_final + letra\n",
    "print(string_final)"
   ]
  },
  {
   "cell_type": "markdown",
   "metadata": {},
   "source": [
    "Isso é útil porque antes de \"somar\" cada letra à _string_ final podemos fazer alterações (como transformar em maiúscula ou minúscula, acrescentar caracteres entre 2 letras etc). É um jeito de fazer tratamento de _strings_. Veremos mais sobre tratamento de _strings_ no capítulo de funções de _strings_.\n"
   ]
  },
  {
   "cell_type": "markdown",
   "metadata": {},
   "source": [
    "# Transformando uma _string_ em lista\n",
    "_Strings_ são imutáveis, e isso pode nos dar um pouco de trabalho quando queremos fazer pequenas alterações, como forçar um caractere a ser maiúsculo ou acrescentar um caractere à _string_. Uma das formas de fazer envolve a \"soma cumulativa\" apresentada acima. Outra forma envolve transformar a nossa _string_ em lista, que é uma estrutura mutável. Execute o programa abaixo:"
   ]
  },
  {
   "cell_type": "code",
   "execution_count": null,
   "metadata": {},
   "outputs": [],
   "source": [
    "string = \"let's Code\"\n",
    "lista = list(string)\n",
    "lista[0] = 'L'\n",
    "lista.append('!')\n",
    "print(lista) "
   ]
  },
  {
   "cell_type": "markdown",
   "metadata": {},
   "source": [
    "Como a lista é mutável, nela conseguimos alterar uma letra e adicionar um símbolo ao final sem dificuldades! Porém, infelizmente nosso resultado é uma lista, o que não ficou muito legível para o usuário. Podemos resolver isso utilizando a função _join_. Veremos em breve como ele realmente funciona, mas por hora podemos utilizá-lo da seguinte maneira para transformar lista em _string_:"
   ]
  },
  {
   "cell_type": "code",
   "execution_count": null,
   "metadata": {},
   "outputs": [],
   "source": [
    "string_original = \"let's Code\"\n",
    "lista = list(string_original)\n",
    "lista[0] = 'L'\n",
    "lista.append('!')\n",
    "string_final = ''.join(lista) # antes do . temos uma string vazia\n",
    "print(string_final)"
   ]
  },
  {
   "cell_type": "markdown",
   "metadata": {},
   "source": [
    "Para as modificações mais comuns, temos algumas funções prontas que poderão ser bastante úteis!\n",
    "\n",
    "## Símbolos especiais\n",
    "Além de letras, números, sinais de pontuação, símbolos matemáticos etc, uma _string_ pode conter alguns operadores especiais de controle. Esses operadores podem indicar, por exemplo, uma quebra de linha ou uma tabulação. Vejamos os mais comuns:\n",
    "\n",
    "### Quebra de linha\n",
    "Uma quebra de linha indica que o programa exibindo a _string_ deverá quebrar a linha atual e exibir o restante da _string_ na linha seguinte, e é representada na maioria dos sistemas e na _web_ pelo símbolo ```\\n```. Execute o programa abaixo e veja o resultado na tela:\n"
   ]
  },
  {
   "cell_type": "code",
   "execution_count": null,
   "metadata": {},
   "outputs": [],
   "source": [
    "print('Olá\\nMundo')"
   ]
  },
  {
   "cell_type": "markdown",
   "metadata": {},
   "source": [
    "### Tabulação\n",
    "A tabulação indica um recuo equivalente ao da tecla _Tab_ - um recuo de início de parágrafo, ou o recuo que usamos para aninhar linhas de código em Python. Ela é representada pelo símbolo ```\\t```. Verifique o resultado do exemplo abaixo:"
   ]
  },
  {
   "cell_type": "code",
   "execution_count": null,
   "metadata": {},
   "outputs": [],
   "source": [
    "aprovados = ['Mario', 'Peach', 'Luigi']\n",
    "reprovados = ['Wario', 'Bowser']\n",
    "\n",
    "print('Candidatos aprovados:')\n",
    "for nome in aprovados:\n",
    "    print('\\t', nome)\n",
    "\n",
    "print('Candidatos reprovados:')\n",
    "for nome in reprovados:\n",
    "    print('\\t', nome)"
   ]
  },
  {
   "cell_type": "markdown",
   "metadata": {},
   "source": [
    "### Barra\n",
    "E se nós quiséssemos representar uma _string_ que explica o significado de ```\\n```, por exemplo, como proceder? Afinal, ao ver o símbolo ```\\n``` o programa entenderá que é uma quebra de linha e fará isso ao invés de escrever ```\\n``` na tela. \n",
    "\n",
    "Podemos utilizar 2 barras: ```\\\\```. Ao fazermos isso, o programa entende que é para representar a barra na tela ao invés de interpretá-la como início de outro símbolo especial."
   ]
  },
  {
   "cell_type": "code",
   "execution_count": null,
   "metadata": {},
   "outputs": [],
   "source": [
    "print('Utilizamos o \\\\n para quebrar linhas.')"
   ]
  },
  {
   "cell_type": "markdown",
   "metadata": {},
   "source": [
    "### Aspas\n",
    "Um problema que você deve ter se deparado é que parece impossível representar o símbolo ```'``` em uma _string_ que foi aberta por esse símbolo, já que a segunda ocorrência dele fechará a string. Idem para o símbolo ```\"```. Podemos resolver isso da mesma forma que fizemos com a barra: ```\\'``` irá sempre representar o símbolo ```'``` e ```\\\"``` irá sempre representar o símbolo ```\"``` ao invés de fechar uma _string_."
   ]
  },
  {
   "cell_type": "code",
   "execution_count": null,
   "metadata": {},
   "outputs": [],
   "source": [
    "print('Imprimindo uma aspa simples(\\') dentro de uma string sem problemas')\n",
    "print(\"Imprimindo aspas duplas(\\\") dntro de uma string sem problemas\")"
   ]
  },
  {
   "cell_type": "markdown",
   "metadata": {},
   "source": [
    "# Funções de strings\n",
    "\n",
    "## Funções de _strings_\n",
    "É possível fazer várias operações com _strings_ utilizando técnicas como concatenação ou converter em listas. Porém, certas operações são muito comuns e podem ser muito trabalhosas de fazer na mão. Por isso, temos diversas funções prontas para nos ajudar.\n",
    "\n",
    "Note que como _strings_ são imutáveis, nenhuma dessas funções irá alterar a _string_ original. Elas sempre **retornarão** uma _string_ nova com as modificações desejadas.\n",
    "\n",
    "Vejamos algumas das mais usadas.\n",
    "\n",
    "### Maiúsculas e minúsculas\n",
    "Temos algumas funções prontas para alterar a capitalização das letras. Uma delas é a função _upper_, que transforma todas as letras da _string_ original em maiúsculas:"
   ]
  },
  {
   "cell_type": "code",
   "execution_count": null,
   "metadata": {},
   "outputs": [],
   "source": [
    "frase = 'vAmOs PrOgRaMaR'\n",
    "maiuscula = frase.upper()\n",
    "print(maiuscula) # resultado: 'VAMOS PROGRAMAR'"
   ]
  },
  {
   "cell_type": "markdown",
   "metadata": {},
   "source": [
    "Analogamente, temos a função _lower_ para transformar todas as letras em minúsculas:"
   ]
  },
  {
   "cell_type": "code",
   "execution_count": null,
   "metadata": {},
   "outputs": [],
   "source": [
    "frase = 'vAmOs PrOgRaMaR'\n",
    "minuscula = frase.lower()\n",
    "print(minuscula) # resultado: 'vamos programar'"
   ]
  },
  {
   "cell_type": "markdown",
   "metadata": {},
   "source": [
    "Também é possível formatar a _string_ inteira como um nome próprio: primeira letra de cada palavra maiúscula, todo o restante minúscula. Para isso temos a função _title_:"
   ]
  },
  {
   "cell_type": "code",
   "execution_count": null,
   "metadata": {},
   "outputs": [],
   "source": [
    "frase = 'vAmOs PrOgRaMaR'\n",
    "titulo = frase.title()\n",
    "print(titulo) # resultado: 'Vamos Programar'"
   ]
  },
  {
   "cell_type": "markdown",
   "metadata": {},
   "source": [
    "E, por fim, é possível tratar nossa _string_ como uma frase gramaticalmente correta: primeira letra maiúscula, todo o resto minúscula. Essa função é a _capitalize_:"
   ]
  },
  {
   "cell_type": "code",
   "execution_count": null,
   "metadata": {},
   "outputs": [],
   "source": [
    "frase = 'vAmOs PrOgRaMaR'\n",
    "correta = frase.capitalize()\n",
    "print(correta) # resultado: 'Vamos programar'"
   ]
  },
  {
   "cell_type": "markdown",
   "metadata": {},
   "source": [
    "Uma utilidade para essas funções é padronizar entrada de usuário. Quando pedimos para o usuário digitar 'sim' caso ele deseje fazer algo, ele pode digitar 'SIM', 'sim', 'Sim', 'sIm', 'siM',  'SIm', 'sIM' ou 'SiM'. Prever todas essas condições em uma condicional pode ser bastante trabalhoso, ou mesmo impossível. Imagine se fosse uma _string_ de várias letras... Porém, podemos forçar um padrão para a entrada do usuário e comparar com esse padrão:"
   ]
  },
  {
   "cell_type": "code",
   "execution_count": null,
   "metadata": {},
   "outputs": [],
   "source": [
    "usuario = input('Digite \"sim\" se aceita os termos de uso: ')\n",
    "if usuario.upper() == 'SIM':\n",
    "    print('Seja bem-vindo!')\n",
    "else:\n",
    "    print('Que pena.') "
   ]
  },
  {
   "cell_type": "markdown",
   "metadata": {},
   "source": [
    "### Quebrando uma _string_\n",
    "É possível separar uma _string_ em uma lista de _substrings_. Isso pode ser particularmente útil quando precisamos separar um texto em palavras individuais. A função que realiza essa quebra é o _split_:"
   ]
  },
  {
   "cell_type": "code",
   "execution_count": null,
   "metadata": {},
   "outputs": [],
   "source": [
    "texto = 'uma frase qualquer'\n",
    "palavras = texto.split()\n",
    "print(palavras) # resultado: ['uma', 'frase', 'qualquer']"
   ]
  },
  {
   "cell_type": "markdown",
   "metadata": {},
   "source": [
    "O _split_ é mais do que apenas uma função para separar palavras. Podemos opcionalmente passar como parâmetro uma _string_ para ser usada como critério de separação: ao invés de quebrar no espaço em branco, a _string_ principal será quebrada nos pontos onde o parâmetro aparece (e ele será apagado do resultado final). \n",
    "\n",
    "Uma utilidade interessante para isso seria quando estamos interessados em ler dados formatados do teclado ou de um arquivo e pegar as informações que nos interessam. Imagine, por exemplo, que você queira que o usuário digite uma data no formato 'dd/mm/aaaa' e em seguida você precise separar dia, mês e ano em três variáveis do tipo **int**. Isso é possível com o _split_:"
   ]
  },
  {
   "cell_type": "code",
   "execution_count": null,
   "metadata": {},
   "outputs": [],
   "source": [
    "data = input('Digite uma data: ')\n",
    "lista_data = data.split('/')\n",
    "dia = int(lista_data[0])\n",
    "mes = int(lista_data[1])\n",
    "ano = int(lista_data[2])\n",
    "print('Dia: ', dia)\n",
    "print('Mês: ', mes)\n",
    "print('Ano: ', ano)"
   ]
  },
  {
   "cell_type": "markdown",
   "metadata": {},
   "source": [
    "### Substituindo elementos na _string_\n",
    "Uma das ferramentas mais úteis em qualquer editor de texto é o _localizar e substituir_, onde podemos buscar por todas as ocorrências de uma expressão no texto e trocar por outra expressão.\n",
    "Em Python temos uma função análoga, o _replace_. Ele recebe 2 parâmetros: a expressão a ser substituída e a expressão que a substituirá. Veja o exemplo:"
   ]
  },
  {
   "cell_type": "code",
   "execution_count": null,
   "metadata": {},
   "outputs": [],
   "source": [
    "frase = 'Python é difícil. Por ser difícil, devemos estudar.'\n",
    "corrigida = frase.replace('difícil', 'fácil')\n",
    "print(corrigida)"
   ]
  },
  {
   "cell_type": "markdown",
   "metadata": {},
   "source": [
    "Em Python não existe uma função para deletar um pedaço de uma _string_. Porém, podemos usar o replace para substituir uma expressão por uma _string_ vazia, o que tem o mesmo resultado:\n",
    "\n"
   ]
  },
  {
   "cell_type": "code",
   "execution_count": null,
   "metadata": {},
   "outputs": [],
   "source": [
    "palavra = 'batata'\n",
    "consoantes = palavra.replace('a', '')\n",
    "print(consoantes)"
   ]
  },
  {
   "cell_type": "markdown",
   "metadata": {},
   "source": [
    "### Concatenando _strings_ em uma coleção\n",
    "Imagine que você tem uma coleção (por exemplo, uma lista) de _strings_ e precisa unir todas elas utilizando algum símbolo padrão como separador entre elas. Para isso temos o _join_. Ele soa pouco intuitivo no começo, então convém executar o exemplo e observar com atenção seu resultado:"
   ]
  },
  {
   "cell_type": "code",
   "execution_count": null,
   "metadata": {},
   "outputs": [],
   "source": [
    "lista = ['a', 'b', 'c']\n",
    "separador = '123'\n",
    "resultado = separador.join(lista)\n",
    "print(resultado)"
   ]
  },
  {
   "cell_type": "markdown",
   "metadata": {},
   "source": [
    "Já vimos o _join_ antes sendo usado para converter uma lista de volta em _string_. Para isso, utilizávamos uma _string_ vazia como separador. Assim, os elementos da lista eram concatenados sem separador. \n",
    "> **Dica:** um jeito de memorizar facilmente como o _join_ funciona é pensar que o separador entrará no lugar das vírgulas na visualização da lista.\n"
   ]
  },
  {
   "cell_type": "markdown",
   "metadata": {},
   "source": [
    "## Formatando _strings_\n",
    "\n",
    "### A função _format_\n",
    "\n",
    "Todo mundo que já preencheu um contrato ou uma ficha de cadastro está familiar com textos nesse estilo:\n",
    "> Eu, __________, portador do CPF ___________, residente no endereço _________________________ autorizo o procedimento.\n",
    "\n",
    "Esse é o texto genérico que vale para todos, e cada um de nós em particular entende que deve preencher os campos em brancos com dados específicos (nome, CPF e endereço, no exemplo acima). \n",
    "\n",
    "Existe uma função em Python para realizar esse tipo de preenchimento de texto: o _format_. Suponha que você tenha dados em diferentes variáveis e precisa que todos eles apareçam em uma _string_.  Basta criar uma _string_ com os \"espaços em branco\" para serem preenchidos e passar as variáveis para a função. Os espaços em branco são representados por chaves (**{}**).\n"
   ]
  },
  {
   "cell_type": "code",
   "execution_count": null,
   "metadata": {},
   "outputs": [],
   "source": [
    "nome = input('Digite seu nome: ')\n",
    "cpf = input('Digite seu cpf: ')\n",
    "endereco = input('Digite seu endereço: ')\n",
    "contrato = 'Eu, {}, portador do CPF {}, residente no endereço {} autorizo o procedimento.'\n",
    "contrato_preenchido = contrato.format(nome, cpf, endereco)\n",
    "print(contrato_preenchido)"
   ]
  },
  {
   "cell_type": "markdown",
   "metadata": {},
   "source": [
    "Porém, o grande charme não está apenas em preencher - isso poderia ser feito concatenando com o operador **+**. Nós podemos colocar opções de formatação nos nossos dados, como número de casas em um número. \n",
    "\n",
    "Imagine que você queira exibir uma data no formato dd/mm/aaaa. Em situações normais, dias e meses inferiores a 10 apareceriam com apenas 1 casa (**int** não é representado com zeros à esquerda). Porém, podemos especificar no _format_ que gostaríamos de representar um inteiro com 2 casas, preenchendo com zero casas em branco."
   ]
  },
  {
   "cell_type": "code",
   "execution_count": null,
   "metadata": {},
   "outputs": [],
   "source": [
    "dia = 1\n",
    "mes = 2\n",
    "ano = 2020\n",
    "data = '{:02d}/{:02d}/{:04d}'.format(dia, mes, ano)\n",
    "print(data)"
   ]
  },
  {
   "cell_type": "markdown",
   "metadata": {},
   "source": [
    "Vamos entender o que está dentro das chaves: o símbolo **:** indica que passaremos opções. O símbolo 'd' indica que estamos representando números inteiros em base decimal (dígitos de 0 a 9). Os símbolos '2' e '4' indicam, respectivamente, 2 casas ou 4 casas. E o símbolo '0' indica que se faltar dígitos, os espaços devem ser preenchidos com zero.\n",
    "\n",
    "Vejamos outro exemplo, dessa vez com casas decimais. É normal postos de gasolina mostrarem o preço do litro com 3 casas decimais. Mas o preço final a ser cobrado deverá ter 2 casas. Porém, ao multiplicar o preço por litro pelo valor em litros, é provável que o total dê várias casas decimais. Usaremos o _format_ para representar com apenas 2 casas."
   ]
  },
  {
   "cell_type": "code",
   "execution_count": null,
   "metadata": {},
   "outputs": [],
   "source": [
    "preco_litro = 5.234\n",
    "litros = 29.5\n",
    "total = preco_litro * litros\n",
    "print(total) \n",
    "\n",
    "preco_final = 'R$ {:.2f}'.format(total)\n",
    "print(preco_final) "
   ]
  },
  {
   "cell_type": "markdown",
   "metadata": {},
   "source": [
    "Neste caso, o 'f' indica que o número é **float**.  Já o '.2' indica que queremos 2 casas após o ponto decimal. Note que ele não apenas descarta as casas excedentes, e sim arredonda corretamente o número.\n",
    "> O _format_ possui tantas opções diferentes que existe um site inteiro dedicado a explicar e dar exemplos: [https://pyformat.info/](https://pyformat.info/)\n",
    "\n",
    "### _f-strings_\n",
    "A função _format_ já se mostrou bastante poderosa, e vimos como ela facilita muito nossa vida. Ela não apenas diminui nosso trabalho para concatenar múltiplas informações em uma única string, como ainda aceita opções diversas de formatação para cada uma das informações. Mas dá para ir um passo além.\n",
    "\n",
    "Ao colocarmos o caractere ```f``` imediatamente antes de abrir aspas para criar uma string, essa string irá se comportar de maneira muito semelhante à máscara de um _format_, e não será necessário chamar o _format_. Podemos colocar o nome de variáveis entre chaves para inseri-las automaticamente na string:"
   ]
  },
  {
   "cell_type": "code",
   "execution_count": null,
   "metadata": {},
   "outputs": [],
   "source": [
    "nome = input('Digite seu nome: ')\n",
    "cpf = input('Digite seu cpf: ')\n",
    "endereco = input('Digite seu endereço: ')\n",
    "contrato = f'Eu, {nome}, portador do CPF {cpf}, residente no endereço {endereco} autorizo o procedimento.'\n",
    "print(contrato)"
   ]
  },
  {
   "cell_type": "markdown",
   "metadata": {},
   "source": [
    "Inclusive podemos utilizar as mesmas opções de formatação do _format_ diretamente nas _f-strings_:"
   ]
  },
  {
   "cell_type": "code",
   "execution_count": null,
   "metadata": {},
   "outputs": [],
   "source": [
    "preco_litro = 5.234\n",
    "litros = 29.5\n",
    "total = preco_litro * litros\n",
    "print(total) # resultado: 154.403\n",
    "\n",
    "preco_final = f'R$ {total:.2f}'\n",
    "print(preco_final) # resultado: R$ 154.40"
   ]
  },
  {
   "cell_type": "markdown",
   "metadata": {},
   "source": [
    "Desde o seu lançamento, as _f-strings_ vem se tornando cada vez mais populares, tornando o uso do _format_ menos comum."
   ]
  },
  {
   "cell_type": "markdown",
   "metadata": {},
   "source": [
    "# Exercícios"
   ]
  },
  {
   "cell_type": "markdown",
   "metadata": {},
   "source": [
    "Faça um programa que peça para o usuário digitar uma palavra e imprima cada letra em uma linha."
   ]
  },
  {
   "cell_type": "code",
   "execution_count": 1,
   "metadata": {},
   "outputs": [
    {
     "name": "stdout",
     "output_type": "stream",
     "text": [
      "o\n",
      "l\n",
      "a\n"
     ]
    }
   ],
   "source": [
    "palavra = input(\"Digite uma palavra: \")\n",
    "\n",
    "for letra in palavra:\n",
    "    print(letra)"
   ]
  },
  {
   "cell_type": "markdown",
   "metadata": {},
   "source": [
    "Faça um programa que pede para o usuário digitar uma palavra e cria uma nova string igual, copiando letra por letra a palavra digitada, depois imprima a nova string."
   ]
  },
  {
   "cell_type": "code",
   "execution_count": 4,
   "metadata": {},
   "outputs": [
    {
     "name": "stdout",
     "output_type": "stream",
     "text": [
      "ola\n"
     ]
    }
   ],
   "source": [
    "palavra = input(\"Digite uma palavra: \")\n",
    "nova_palavra = \"\"\n",
    "\n",
    "for letra in palavra:\n",
    "    nova_palavra += letra\n",
    "\n",
    "print(nova_palavra)"
   ]
  },
  {
   "cell_type": "markdown",
   "metadata": {},
   "source": [
    "Altere o exercício anterior para que a string copiada alterne entre letras maiúsculas e minúsculas.\n",
    "\n",
    "Exemplo: se o usuário digitar \"latex\" o programa deve imprimir \"LaTeX\"."
   ]
  },
  {
   "cell_type": "code",
   "execution_count": 6,
   "metadata": {},
   "outputs": [
    {
     "name": "stdout",
     "output_type": "stream",
     "text": [
      "LaTeX\n"
     ]
    }
   ],
   "source": [
    "palavra = input(\"Digite uma palavra: \").lower()\n",
    "nova_palavra = \"\"\n",
    "\n",
    "for indice in range(len(palavra)):\n",
    "    nova_palavra += palavra[indice] if indice % 2 == 1 else palavra[indice].upper()\n",
    "\n",
    "print(nova_palavra)"
   ]
  },
  {
   "cell_type": "markdown",
   "metadata": {},
   "source": [
    "Faça um programa que pede para o usuário digitar uma palavra e cria uma nova string igual, porém com espaço entre cada letra, depois imprima a nova string:\n",
    "\n",
    "Exemplo: se o usuário digitar \"python\" o programa deve imprimir \"p y t h o n \""
   ]
  },
  {
   "cell_type": "code",
   "execution_count": 7,
   "metadata": {},
   "outputs": [
    {
     "name": "stdout",
     "output_type": "stream",
     "text": [
      "p y t h o n\n"
     ]
    }
   ],
   "source": [
    "palavra = input(\"Digite uma palavra: \")\n",
    "nova_palavra = \" \".join(list(palavra))\n",
    "print(nova_palavra)"
   ]
  },
  {
   "cell_type": "markdown",
   "metadata": {},
   "source": [
    "Faça uma função que receba uma string e retorne uma nova string substituindo:\n",
    "\n",
    "'a' por '4'\n",
    "\n",
    "'e' por '3'\n",
    "\n",
    "'I' por '1'\n",
    "\n",
    "'t' por '7'"
   ]
  },
  {
   "cell_type": "code",
   "execution_count": 11,
   "metadata": {},
   "outputs": [],
   "source": [
    "def sustitui_letras(texto):\n",
    "    dict_substituicao = {\n",
    "        \"a\": \"4\",\n",
    "        \"e\": \"5\",\n",
    "        \"I\": \"1\",\n",
    "        \"t\": \"7\"\n",
    "    }\n",
    "    for letra in dict_substituicao:\n",
    "        texto = texto.replace(letra, dict_substituicao[letra])\n",
    "    return texto"
   ]
  },
  {
   "cell_type": "code",
   "execution_count": 12,
   "metadata": {},
   "outputs": [
    {
     "data": {
      "text/plain": [
       "'1nicio B5m 757o ol4'"
      ]
     },
     "execution_count": 12,
     "metadata": {},
     "output_type": "execute_result"
    }
   ],
   "source": [
    "sustitui_letras(\"Inicio Bem teto ola\")"
   ]
  },
  {
   "cell_type": "markdown",
   "metadata": {},
   "source": [
    "Faça uma função que recebe uma string e retorna ela ao contrário.\n",
    "\n",
    "Exemplo: Recebe \"teste\" e retorna \"etset\"."
   ]
  },
  {
   "cell_type": "code",
   "execution_count": null,
   "metadata": {},
   "outputs": [],
   "source": []
  },
  {
   "cell_type": "markdown",
   "metadata": {},
   "source": [
    "Agora faça uma função que recebe uma palavra e diz se ela é um palíndromo, ou seja, se ela é igual a ela mesma ao contrário.\n",
    "\n",
    "Dica: use a função do exercício anterior."
   ]
  },
  {
   "cell_type": "code",
   "execution_count": null,
   "metadata": {},
   "outputs": [],
   "source": []
  },
  {
   "cell_type": "markdown",
   "metadata": {},
   "source": [
    "Faça uma função que receba um texto e uma palavra, então verifique se a palavra está no texto, retornando True ou False.\n",
    "\n"
   ]
  },
  {
   "cell_type": "code",
   "execution_count": 25,
   "metadata": {},
   "outputs": [],
   "source": [
    "def is_word_in_text(text, word):\n",
    "    return word.lower() in text.lower().split()"
   ]
  },
  {
   "cell_type": "code",
   "execution_count": 26,
   "metadata": {},
   "outputs": [
    {
     "name": "stdout",
     "output_type": "stream",
     "text": [
      "['ola', 'mundo']\n"
     ]
    },
    {
     "data": {
      "text/plain": [
       "False"
      ]
     },
     "execution_count": 26,
     "metadata": {},
     "output_type": "execute_result"
    }
   ],
   "source": [
    "is_word_in_text(\"ola Mundo\", \"mu\")"
   ]
  },
  {
   "cell_type": "markdown",
   "metadata": {},
   "source": [
    "Faça uma função que receba uma string que contém tanto números quanto letras e caracteres especiais, e que separe as letras em uma variável e os números em outra (os caracteres especiais podem ser descartados). Ao final a função deve imprimir as duas variáveis."
   ]
  },
  {
   "cell_type": "code",
   "execution_count": 29,
   "metadata": {},
   "outputs": [],
   "source": [
    "def filtra_numeros_letras(texto):\n",
    "    letras = \"\"\n",
    "    numeros = \"\"\n",
    "\n",
    "    for caracter in texto:\n",
    "        if caracter.isdigit():\n",
    "            numeros += caracter\n",
    "        elif caracter.isalpha():\n",
    "            letras += caracter\n",
    "\n",
    "    print(numeros)\n",
    "    print(letras)"
   ]
  },
  {
   "cell_type": "code",
   "execution_count": 40,
   "metadata": {},
   "outputs": [],
   "source": [
    "def filtra_numeros_letras(texto):\n",
    "    letras = \"\"\n",
    "    numeros = \"\"\n",
    "\n",
    "    for caracter in texto:\n",
    "        if \"0\" <= caracter <= \"9\":\n",
    "            numeros += caracter\n",
    "        elif \"a\" <= caracter <= \"z\" or \"A\" <= caracter <= \"Z\":\n",
    "            letras += caracter\n",
    "\n",
    "    print(numeros)\n",
    "    print(letras)"
   ]
  },
  {
   "cell_type": "code",
   "execution_count": 41,
   "metadata": {},
   "outputs": [
    {
     "name": "stdout",
     "output_type": "stream",
     "text": [
      "555\n",
      "Aaa\n"
     ]
    }
   ],
   "source": [
    "filtra_numeros_letras(\"A5@a5@a5@\")"
   ]
  },
  {
   "cell_type": "markdown",
   "metadata": {},
   "source": [
    "Desafio - Faça uma função que receba uma string e uma letra e:\n",
    "\n",
    "a. imprima quantas vezes a letra aparece na string;\n",
    "\n",
    "b. imprima todas as posições em que a letra aparece na string;\n",
    "\n",
    "c. retorne a distância entre a primeira e a última aparição dessa letra na string."
   ]
  },
  {
   "cell_type": "code",
   "execution_count": 46,
   "metadata": {},
   "outputs": [],
   "source": [
    "def desafio1(texto, letra):\n",
    "    posicoes = []\n",
    "    lista_texto = list(texto)\n",
    "    offset = 0\n",
    "\n",
    "    while letra in lista_texto:\n",
    "        posicoes.append(lista_texto.index(letra) + offset)\n",
    "        lista_texto.remove(letra)\n",
    "        offset += 1\n",
    "\n",
    "    distancia = posicoes[-1] - posicoes[0]\n",
    "\n",
    "    print(texto.count(letra))\n",
    "    print(posicoes)\n",
    "    print(distancia)\n"
   ]
  },
  {
   "cell_type": "code",
   "execution_count": 47,
   "metadata": {},
   "outputs": [
    {
     "name": "stdout",
     "output_type": "stream",
     "text": [
      "3\n",
      "[0, 3, 6]\n",
      "6\n"
     ]
    }
   ],
   "source": [
    "desafio1(\"abcabcabc\", \"a\")"
   ]
  },
  {
   "cell_type": "markdown",
   "metadata": {},
   "source": [
    "Desafio - faça uma função que criptografa uma mensagem substituindo cada letra pela letra oposta do dicionário:\n",
    "\n",
    "'a' por 'z'\n",
    "\n",
    "'b' por 'y'\n",
    "\n",
    "'c' por 'x'"
   ]
  },
  {
   "cell_type": "code",
   "execution_count": 50,
   "metadata": {},
   "outputs": [],
   "source": [
    "def criptografa(mensagem):\n",
    "    alfabeto = list(\"abcdefghijklmnopqrstuvwxyz\")\n",
    "    alfabeto_invertido = list(alfabeto[::-1])\n",
    "\n",
    "    mensagem_criptografada = \"\"\n",
    "    for letra in mensagem:\n",
    "        mensagem_criptografada += alfabeto_invertido[alfabeto.index(letra)]\n",
    "\n",
    "    return mensagem_criptografada"
   ]
  },
  {
   "cell_type": "code",
   "execution_count": 51,
   "metadata": {},
   "outputs": [
    {
     "data": {
      "text/plain": [
       "'zyx'"
      ]
     },
     "execution_count": 51,
     "metadata": {},
     "output_type": "execute_result"
    }
   ],
   "source": [
    "criptografa(\"abc\")"
   ]
  }
 ],
 "metadata": {
  "interpreter": {
   "hash": "f62fd1b5f2f7bb8cee509ef117ad7243bf648f347219a0eab91c7e32772de67b"
  },
  "kernelspec": {
   "display_name": "Python 3.10.5 64-bit (windows store)",
   "language": "python",
   "name": "python3"
  },
  "language_info": {
   "name": "python",
   "version": "3.10.5"
  },
  "orig_nbformat": 4
 },
 "nbformat": 4,
 "nbformat_minor": 2
}
