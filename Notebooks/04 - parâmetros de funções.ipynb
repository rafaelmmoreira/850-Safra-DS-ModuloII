{
 "cells": [
  {
   "cell_type": "markdown",
   "metadata": {},
   "source": [
    "# Parâmetros de funções\n",
    "\n",
    "Quando estudamos funções, aprendemos que elas podem receber dados (parâmetros) e podem fornecer uma resposta (retorno). Porém, o número de parâmetros era fixo para cada função: um dado para cada parâmetro que declaramos na definição da função. Da mesma forma, a função poderia retornar exatamente um resultado.\n",
    "\n",
    "Em alguns casos, mais flexibilidade seria útil. Utilizando tuplas e dicionários conseguimos essa flexibilidade.\n",
    "\n",
    "## Funções com retorno múltiplo\n",
    "Vejamos um caso simples: uma função que retorna os valores máximo e mínimo de uma coleção.\n",
    "Você pode retornar os valores separados por vírgula. \n",
    "Vamos imprimir o resultado e verificar o que acontece."
   ]
  },
  {
   "cell_type": "code",
   "execution_count": null,
   "metadata": {},
   "outputs": [],
   "source": [
    "def max_min(colecao):\n",
    "\tmaior = max(colecao)\n",
    "\tmenor = min(colecao)\n",
    "\treturn maior, menor\n",
    "\n",
    "numeros = [3, 1, 4, 1, 5, 9, 2]\n",
    "\n",
    "resposta = max_min(numeros)\n",
    "print(resposta)\n",
    "print(type(resposta)) # mostra o tipo da variável resposta"
   ]
  },
  {
   "cell_type": "markdown",
   "metadata": {},
   "source": [
    "Surpresa! Ele tratou o retorno como uma tupla! Quando utilizamos valores separados por vírgula em Python, os valores são agrupados em uma tupla, mesmo que não estejamos utilizando parênteses. Essa informação é relevante porque podemos separar a tupla em varias variáveis usando a mesma sintaxe:"
   ]
  },
  {
   "cell_type": "code",
   "execution_count": null,
   "metadata": {},
   "outputs": [],
   "source": [
    "def max_min(colecao):\n",
    "\tmaior = max(colecao)\n",
    "\tmenor = min(colecao)\n",
    "\treturn maior, menor\n",
    "\n",
    "numeros = [3, 1, 4, 1, 5, 9, 2]\n",
    "\n",
    "maior_num, menor_num = max_min(numeros)\n",
    "print(maior_num)\n",
    "print(menor_num)"
   ]
  },
  {
   "cell_type": "markdown",
   "metadata": {},
   "source": [
    "No exemplo acima é mais perceptível a sensação de que a função retornou 2 valores e o programa recebeu esses 2 valores individualmente. Por dentro, tupla. Por fora, retorno múltiplo."
   ]
  },
  {
   "cell_type": "markdown",
   "metadata": {},
   "source": [
    "## Parâmetros com valores padrão\n",
    "\n",
    "Uma primeira forma de trabalhar com a ideia de parâmetros opcionais é atribuir valores padrão para nossos parâmetros. Quando fazemos isso, quando a função for chamada, o parâmetro pode **ou** não ser passado. Caso ele não seja passado, é adotado o valor padrão.\n",
    "\n",
    "Devemos primeiro colocar os parâmetros \"comuns\" (conhecidos como _argumentos posicionais_) para depois colocar os argumentos com valor padrão. Imagine, por exemplo, uma função que padroniza _strings_ jogando todo seu conteúdo para upper ou lower. Podemos implementá-la da seguinte maneira:"
   ]
  },
  {
   "cell_type": "code",
   "execution_count": null,
   "metadata": {},
   "outputs": [],
   "source": [
    "def padroniza_string(texto, lower=True):\n",
    "    if lower:\n",
    "        return texto.lower()\n",
    "    else:\n",
    "        return texto.upper()\n",
    "\n",
    "print(padroniza_string('Sem passar o SEGUNDO argumento'))\n",
    "print(padroniza_string('Passando SEGUNDO argumento True', lower=True))\n",
    "print(padroniza_string('Passando SEGUNDO argumento False', lower=False))"
   ]
  },
  {
   "cell_type": "markdown",
   "metadata": {},
   "source": [
    "## Funções com quantidade variável de parâmetros\n",
    "Talvez você já tenha notado que o _print_ é uma função. Se não notou, esse é um bom momento para pensar a respeito. Nós sempre usamos com parênteses, nós passamos informações dentro dos parênteses (os dados a serem impressos) e ele faz um monte de coisa automaticamente: converte todos os dados passados para _string_, contatena todas as _strings_ com um espaço entre elas e as escreve na tela.\n",
    "\n",
    "Algo que o _print_ tem que as nossas funções não tinham é a capacidade de receber uma quantidade variável de parâmetros. Nós podemos passar 0 dados (e, neste caso, ele apenas pulará uma linha), 1 dado, 2 dados, 3 dados... Quantos dados quisermos, separados por vírgula, e ele funcionará para todos esses casos. Se temos que declarar todos os parâmetros, como fazer para que múltiplos dados possam ser passados?\n",
    "\n",
    "### Agrupando parâmetros\n",
    "A solução é utilizar o operador **\\*** - que, neste caso, não será uma multiplicação.  Ao colocarmos o **\\*** ao lado do nome de um parâmetro na definição da função, estamos dizendo que aquele argumento será uma coleção. Mais especificamente, uma tupla. Porém, o usuário não irá passar uma tupla. Ele irá passar quantos argumentos ele quiser, e o Python automaticamente criará uma tupla com eles. \n",
    "\n",
    "O exemplo abaixo cria uma função de somatório que pode receber uma quantidade arbitrária de números."
   ]
  },
  {
   "cell_type": "code",
   "execution_count": null,
   "metadata": {},
   "outputs": [],
   "source": [
    "def somatorio(*numeros):\n",
    "\t# remova o símbolo de comentário das linhas abaixo para entender melhor o parâmetro\n",
    "\t# print (numeros)\n",
    "\t# print(type(numeros))\n",
    "\tsoma = 0\n",
    "\tfor n in numeros:\n",
    "\t\tsoma = soma + n\n",
    "\treturn soma\n",
    "\n",
    "s1 = somatorio(5, 3, 1)\n",
    "s2 = somatorio(2, 4, 6, 8, 10)\n",
    "s3 = somatorio(1, 2, 3, 4, 5, 6, 7, 8, 9, 10)\n",
    "print(s1, s2, s3)"
   ]
  },
  {
   "cell_type": "markdown",
   "metadata": {},
   "source": [
    "### Expandindo uma coleção\n",
    "O exemplo acima funciona muito bem quando o usuário da função possui vários dados avulsos, pois ele os agrupa em uma coleção. Mas o que acontece quando os dados já estão agrupados?"
   ]
  },
  {
   "cell_type": "code",
   "execution_count": null,
   "metadata": {},
   "outputs": [],
   "source": [
    "def somatorio(*numeros):\n",
    "\tprint (numeros)\n",
    "\tprint(type(numeros))\n",
    "\tsoma = 0\n",
    "\tfor n in numeros:\n",
    "\t\tsoma = soma + n\n",
    "\treturn soma\n",
    "\n",
    "lista = [1, 2, 3, 4, 5]\n",
    "s = somatorio(lista)\n",
    "print(s)"
   ]
  },
  {
   "cell_type": "markdown",
   "metadata": {},
   "source": [
    "Note que o programa dará erro, pois como os _print_ dentro da função ilustram, foi criada uma tupla, e na primeira posição da tupla foi armazenada a lista. Isso não funciona com a lógica que projetamos.\n",
    "\n",
    "Para casos assim, utilizaremos o operador **\\*** na chamada da função também. Na definição, o operador **\\*** indica que devemos agrupar itens avulsos em uma coleção. Na chamada, ele indica que uma coleção deve ser expandida em itens avulsos."
   ]
  },
  {
   "cell_type": "code",
   "execution_count": null,
   "metadata": {},
   "outputs": [],
   "source": [
    "def somatorio(*numeros):\n",
    "\tprint (numeros)\n",
    "\tprint(type(numeros))\n",
    "\tsoma = 0\n",
    "\tfor n in numeros:\n",
    "\t\tsoma = soma + n\n",
    "\treturn soma\n",
    "\n",
    "lista = [1, 2, 3, 4, 5]\n",
    "s = somatorio(*lista)\n",
    "print(s)"
   ]
  },
  {
   "cell_type": "markdown",
   "metadata": {},
   "source": [
    "No programa acima, a lista é expandida em 5 valores avulsos, e em seguida a função agrupa os 5 itens em uma tupla chamada \"numeros\". "
   ]
  },
  {
   "cell_type": "markdown",
   "metadata": {},
   "source": [
    "## Parâmetros opcionais\n",
    "Outra possibilidade são funções com parâmetros opcionais. Note que isso é diferente de termos quantidade variável de parâmetros. \n",
    "\n",
    "No caso da quantidade variável, normalmente são diversos parâmetros com a mesma utilidade (números a serem somados, valores a serem exibidos etc). \n",
    "\n",
    "Já os parâmetros opcionais são informações distintas que podem ou não ser passadas para a função. Como exemplo podemos citar o _csv.reader_ e o _csv.writer_ vistos anteriormente. Os parâmetros que passamos pelo nome (_delimiter_ e _lineterminator_) são opcionais: se você omiti-los, a função usará valores padrão.\n",
    "\n",
    "Já estudamos uma forma de parâmetros opcionais utilizando valores padrão. Mas para funções com uma **grande** quantidade de parâmetros opcionais, existe outra forma utilizando dicionários, apelidada como ```**kwargs```.\n",
    "\n",
    "### Criando **kwargs\n",
    "Para criar parâmetros opcionais, usaremos **\\*\\***, e os parâmetros passados serão agrupados em um dicionário: o nome do parâmetro será uma chave, e o valor será... O valor.\n",
    "\n",
    "O exemplo abaixo cadastra usuários em uma base de dado. Um usuário pode fornecer seu nome, seu CPF ou ambos.\n"
   ]
  },
  {
   "cell_type": "code",
   "execution_count": null,
   "metadata": {},
   "outputs": [],
   "source": [
    "def cadastro(**usuario):\n",
    "\tif not ('nome' in usuario) and not ('cpf') in usuario:\n",
    "\t\tprint('Nenhum dado encontrado!')\n",
    "\telse:\n",
    "\t\tarquivo = open('usuarios.txt', 'a')\n",
    "\t\tif 'nome' in usuario:\n",
    "\t\t\tarquivo.write(usuario['nome'] + '\\n')\n",
    "\t\tif 'cpf' in usuario:\n",
    "\t\t\tarquivo.write(str(usuario['cpf']) + '\\n')\n",
    "\t\tarquivo.write('-----\\n')\n",
    "\t\tarquivo.close()\n",
    "\t\tprint('Cadastro realizado com sucesso!')\n",
    "\n",
    "cadastro(nome = 'João', cpf = 123456789) # tem ambos\n",
    "cadastro(nome = 'José') # tem apenas nome\n",
    "cadastro(cpf = 987654321) # tem apenas cpf\n",
    "cadastro(rg = 192837465) # não tem nome nem cpf"
   ]
  },
  {
   "cell_type": "markdown",
   "metadata": {},
   "source": [
    "### Expandindo um dicionário\n",
    "Analogamente ao caso dos parâmetros múltiplos, é possível que o usuário da função já tenha os dados organizados em um dicionário. Neste caso, basta usar **\\*\\*** na chamada da função para expandir o dicionário em vários parâmetros opcionais."
   ]
  },
  {
   "cell_type": "code",
   "execution_count": null,
   "metadata": {},
   "outputs": [],
   "source": [
    "def cadastro(**usuario):\n",
    "\tif not ('nome' in usuario) and not ('cpf') in usuario:\n",
    "\t\tprint('Nenhum dado encontrado!')\n",
    "\telse:\n",
    "\t\tarquivo = open('usuarios.txt', 'a')\n",
    "\t\tif 'nome' in usuario:\n",
    "\t\t\tarquivo.write(usuario['nome'] + '\\n')\n",
    "\t\tif 'cpf' in usuario:\n",
    "\t\t\tarquivo.write(str(usuario['cpf']) + '\\n')\n",
    "\t\tarquivo.write('-----\\n')\n",
    "\t\tarquivo.close()\n",
    "\t\tprint('Cadastro realizado com sucesso!')\n",
    "\n",
    "maria = {'nome':'Maria', 'cpf':2468135790}\n",
    "cadastro(**maria)"
   ]
  },
  {
   "cell_type": "markdown",
   "metadata": {},
   "source": [
    "## Exercícios\n",
    "\n",
    "Faça uma função que recebe uma quantidade arbitrária de variáveis de qualquer tipo e retorna uma string contendo todas as suas representações separadas por espaço."
   ]
  },
  {
   "cell_type": "code",
   "execution_count": 24,
   "metadata": {},
   "outputs": [],
   "source": [
    "def junta_parametros(*params):\n",
    "    txt = \"\"\n",
    "    for idx in range(len(params)):\n",
    "        txt += str(params[idx])\n",
    "        if idx < len(params) - 1:\n",
    "            txt += \" \"\n",
    "    return txt"
   ]
  },
  {
   "cell_type": "code",
   "execution_count": 25,
   "metadata": {},
   "outputs": [
    {
     "data": {
      "text/plain": [
       "'ola mundo 1 True [1, 2, 3]'"
      ]
     },
     "execution_count": 25,
     "metadata": {},
     "output_type": "execute_result"
    }
   ],
   "source": [
    "junta_parametros(\"ola\", \"mundo\", 1, True, [1, 2, 3])"
   ]
  },
  {
   "cell_type": "markdown",
   "metadata": {},
   "source": [
    "Modifique a função anterior para incluir um parâmetro opcional indicando o caractere de separação entre as variáveis. Seu valor padrão será 1 espaço em branco. "
   ]
  },
  {
   "cell_type": "code",
   "execution_count": 29,
   "metadata": {},
   "outputs": [],
   "source": [
    "def junta_parametros(*params, sep: str = \" \"):\n",
    "    txt = \"\"\n",
    "    for idx in range(len(params)):\n",
    "        txt += str(params[idx])\n",
    "        if idx < len(params) - 1:\n",
    "            txt += sep\n",
    "    return txt"
   ]
  },
  {
   "cell_type": "code",
   "execution_count": 30,
   "metadata": {},
   "outputs": [
    {
     "data": {
      "text/plain": [
       "'ola-mundo-1-True-[1, 2, 3]'"
      ]
     },
     "execution_count": 30,
     "metadata": {},
     "output_type": "execute_result"
    }
   ],
   "source": [
    "junta_parametros(\"ola\", \"mundo\", 1, True, [1, 2, 3], sep = \"-\")"
   ]
  },
  {
   "cell_type": "markdown",
   "metadata": {},
   "source": [
    "Faça sua própria função \"sorted\", que recebe uma coleção de elementos e retorna uma nova lista contendo os elementos ordenados. Ela deverá receber:\n",
    "\n",
    "* uma lista ou uma tupla (obrigatório).\n",
    "* um booleano indicando se deve ser ordem inversa ou não (opcional, com valor padrão).\n",
    "* uma função (sim, isso pode!) que será usada para comparar os valores da lista entre eles (opcional, com valor padrão null) - caso seja null, utilize os operadores \">\" ou \"<\" para fazer as comparações.\n",
    "\n",
    "Faça tratamento de exceção da maneira que julgar melhor para lidar com a possibilidade da lista de entrada conter elementos que não podem ser comparados entre si (como str e int, por exemplo).\n"
   ]
  },
  {
   "cell_type": "code",
   "execution_count": 31,
   "metadata": {},
   "outputs": [],
   "source": [
    "def ordena(colecao: list | tuple, reverse: bool = False, key = None):\n",
    "    def comparacao_padrao(n1, n2):\n",
    "        return n1 > n2\n",
    "    if not key:\n",
    "        key = comparacao_padrao\n",
    "\n",
    "    if type(colecao) == tuple:\n",
    "        colecao = list(colecao)\n",
    "\n",
    "    for i in range(len(colecao)):\n",
    "        trocado = False\n",
    "        for j in range(len(colecao)-1-i):\n",
    "            try:\n",
    "                comparacao = key(colecao[j+1], colecao[j]) if reverse else key(colecao[j], colecao[j+1])\n",
    "            except:\n",
    "                print(f\"Valores {colecao[j]} e {colecao[j+1]} não puderam ser comparados\")\n",
    "                comparacao = True\n",
    "            if comparacao:\n",
    "                trocado = True\n",
    "                colecao[j], colecao[j+1] = colecao[j+1], colecao[j]\n",
    "        if not trocado:\n",
    "            return colecao\n",
    "    return colecao"
   ]
  },
  {
   "cell_type": "markdown",
   "metadata": {},
   "source": [
    "Faça um programa com um menu que permita cadastrar novos usuários, buscar usuários já existentes, modificar um usuário existente e visualizar todos os usuários.\n",
    "\n",
    "Cada usuário deve ter, obrigatoriamente:\n",
    "\n",
    "* Nome\n",
    "* CPF (deve ser **único**)\n",
    "* e-mail (deve ser **único**)\n",
    "\n",
    "Opcionalmente, usuários podem ter:\n",
    "\n",
    "* Data de nascimento\n",
    "* Profissão\n",
    "* Escolaridade (a ser escolhida de uma lista: infantil, fundamental, médio, superior, pós)\n",
    "\n",
    "Para a busca, podemos passar um ou mais dos dados (ex: apenas nome, ou data de nascimento + profissão), e teremos um parâmetro opcional indicando se os resultados mostrarão usuários que bateram com pelo menos 1 dos parâmetros buscados (ex: nome igual, mas CPF diferente) ou apenas que bateram com todas as informações passadas.\n",
    "\n",
    "Estruture seu programa para utilizar funções com parâmetros opcionais.\n",
    "\n",
    "Desafio 1: faça toda a comunicação de erros entre funções e diferentes partes do programa via **exceções**.\n",
    "\n",
    "Desafio 2: adicione **persistência** ao seu programa em formato .json\n",
    "\n",
    "Desafio 3: **valide CPF, e-mail e data de nascimento** (apenas CPFs válidos, e-mail apenas com caracteres válidos, e 1 única arroba que contenha caracteres antes e depois, data de nascimento obrigatoriamente no formato aaaa-mm-dd e que não aceite dias inválidos, como 30 de fevereiro).\n",
    "\n",
    "Desafio 4: acrescente ao desafio 3 a verificação para 29/fev e ano bissexto."
   ]
  },
  {
   "cell_type": "code",
   "execution_count": 9,
   "metadata": {},
   "outputs": [
    {
     "name": "stdout",
     "output_type": "stream",
     "text": [
      "{'nome': 'Brian', 'cpf': '12345678956', 'email': 'brial@mail.com', 'data_nasc': '26-07-2000'}\n",
      "{'nome': 'Rafael', 'cpf': '45678912356', 'email': 'rafael@mail.com'}\n",
      "{'nome': 'Bruna', 'cpf': '63985274145', 'email': 'bruna@mail.com', 'profissao': 'DevOps'}\n",
      "\n",
      "{'nome': 'Brian', 'cpf': '12345678956', 'email': 'nunes@mail.com', 'data_nasc': '26-07-2000', 'escolaridade': 'Ensino Superior Incompleto'}\n",
      "{'nome': 'Rafael', 'cpf': '45678912356', 'email': 'rafael@mail.com'}\n",
      "{'nome': 'Bruna', 'cpf': '63985274145', 'email': 'bruna@mail.com', 'profissao': 'DevOps'}\n",
      "\n",
      "[]\n",
      "[{'nome': 'Brian', 'cpf': '12345678956', 'email': 'nunes@mail.com', 'data_nasc': '26-07-2000', 'escolaridade': 'Ensino Superior Incompleto'}, {'nome': 'Bruna', 'cpf': '63985274145', 'email': 'bruna@mail.com', 'profissao': 'DevOps'}]\n"
     ]
    }
   ],
   "source": [
    "def cadastrar(bd, nome, cpf, email, data_nasc = None, profissao = None, escolaridade = None):\n",
    "    for registro in bd:\n",
    "        if cpf == registro[\"cpf\"] or email == registro[\"email\"]:\n",
    "            raise Exception(\"cpf ou email já usado\")\n",
    "    \n",
    "    novo_registro = {\n",
    "        \"nome\": nome,\n",
    "        \"cpf\": cpf,\n",
    "        \"email\": email\n",
    "    }\n",
    "\n",
    "    if data_nasc: novo_registro[\"data_nasc\"] = data_nasc\n",
    "    if profissao: novo_registro[\"profissao\"] = profissao\n",
    "    if escolaridade: novo_registro[\"escolaridade\"] = escolaridade\n",
    "\n",
    "    bd.append(novo_registro)\n",
    "    return bd\n",
    "\n",
    "def buscar(bd, nome = None, cpf = None, email = None, data_nasc = None, profissao = None, escolaridade = None, hardFilter = True):\n",
    "    def gerador_filtros(parametro, valor):\n",
    "        def filtro(registro):\n",
    "            try:\n",
    "                return registro[parametro] == valor\n",
    "            except:\n",
    "                return False\n",
    "        return filtro\n",
    "\n",
    "    lista = bd\n",
    "\n",
    "    if hardFilter:\n",
    "        if nome:\n",
    "            lista = list(filter(gerador_filtros(\"nome\", nome), lista))\n",
    "        if cpf:\n",
    "            lista = list(filter(gerador_filtros(\"cpf\", cpf), lista))\n",
    "        if email:\n",
    "            lista = list(filter(gerador_filtros(\"email\", email), lista))\n",
    "        if data_nasc:\n",
    "            lista = list(filter(gerador_filtros(\"data_nasc\", data_nasc), lista))\n",
    "        if profissao:\n",
    "            lista = list(filter(gerador_filtros(\"profissao\", profissao), lista))\n",
    "        if escolaridade:\n",
    "            lista = list(filter(gerador_filtros(\"escolaridade\", escolaridade), lista))\n",
    "        return lista\n",
    "    else:\n",
    "        lista_filtrada = []\n",
    "        if nome:\n",
    "            lista_filtrada += list(filter(gerador_filtros(\"nome\", nome), lista))\n",
    "        if cpf:\n",
    "            lista_filtrada += list(filter(gerador_filtros(\"cpf\", cpf), lista))\n",
    "        if email:\n",
    "            lista_filtrada += list(filter(gerador_filtros(\"email\", email), lista))\n",
    "        if data_nasc:\n",
    "            lista_filtrada += list(filter(gerador_filtros(\"data_nasc\", data_nasc), lista))\n",
    "        if profissao:\n",
    "            lista_filtrada += list(filter(gerador_filtros(\"profissao\", profissao), lista))\n",
    "        if escolaridade:\n",
    "            lista_filtrada += list(filter(gerador_filtros(\"escolaridade\", escolaridade), lista))\n",
    "\n",
    "        cpfs = []\n",
    "        i = 0\n",
    "        while i < len(lista_filtrada):\n",
    "            if lista_filtrada[i][\"cpf\"] not in cpfs:\n",
    "                cpfs.append(lista_filtrada[i][\"cpf\"])\n",
    "                i+=1\n",
    "                continue\n",
    "            \n",
    "            lista_filtrada.pop(i)\n",
    "        return lista_filtrada\n",
    "\n",
    "\n",
    "def modificar(bd, cpf, nome = None, email = None, data_nasc = None, profissao = None, escolaridade = None):\n",
    "    registro_alterado = None\n",
    "    for registro in bd:\n",
    "        if cpf == registro[\"cpf\"]:\n",
    "            registro_alterado = registro\n",
    "\n",
    "    if not registro_alterado:\n",
    "        raise Exception(\"CPF não encontrado\")\n",
    "\n",
    "    if data_nasc: registro_alterado[\"data_nasc\"] = data_nasc\n",
    "    if profissao: registro_alterado[\"profissao\"] = profissao\n",
    "    if escolaridade: registro_alterado[\"escolaridade\"] = escolaridade\n",
    "    if nome: registro_alterado[\"nome\"] = nome\n",
    "    if email: registro_alterado[\"email\"] = email\n",
    "\n",
    "    return bd\n",
    "\n",
    "def vizualizar(bd):\n",
    "    for registro in bd:\n",
    "        print(registro)\n",
    "\n",
    "\n",
    "## Não fiz menu por questão de tempo, mas testei as funções na mão\n",
    "## Acredito que a parte de busca é o que vocês mais precisam\n",
    "\n",
    "bd = []\n",
    "cadastrar(bd, \"Brian\", \"12345678956\", \"brial@mail.com\", data_nasc = \"26-07-2000\")\n",
    "cadastrar(bd, \"Rafael\", \"45678912356\", \"rafael@mail.com\")\n",
    "cadastrar(bd, \"Bruna\", \"63985274145\", \"bruna@mail.com\", profissao = \"DevOps\")\n",
    "vizualizar(bd)\n",
    "print()\n",
    "modificar(bd, \"12345678956\", email = \"nunes@mail.com\", escolaridade = \"Ensino Superior Incompleto\")\n",
    "vizualizar(bd)\n",
    "print()\n",
    "print(buscar(bd, nome = \"Brian\", profissao = \"DevOps\", hardFilter = True))\n",
    "print(buscar(bd, nome = \"Brian\", profissao = \"DevOps\", hardFilter = False))"
   ]
  },
  {
   "cell_type": "code",
   "execution_count": null,
   "metadata": {},
   "outputs": [],
   "source": [
    "\n"
   ]
  }
 ],
 "metadata": {
  "interpreter": {
   "hash": "f62fd1b5f2f7bb8cee509ef117ad7243bf648f347219a0eab91c7e32772de67b"
  },
  "kernelspec": {
   "display_name": "Python 3.10.5 64-bit (windows store)",
   "language": "python",
   "name": "python3"
  },
  "language_info": {
   "codemirror_mode": {
    "name": "ipython",
    "version": 3
   },
   "file_extension": ".py",
   "mimetype": "text/x-python",
   "name": "python",
   "nbconvert_exporter": "python",
   "pygments_lexer": "ipython3",
   "version": "3.10.5"
  },
  "orig_nbformat": 4
 },
 "nbformat": 4,
 "nbformat_minor": 2
}
